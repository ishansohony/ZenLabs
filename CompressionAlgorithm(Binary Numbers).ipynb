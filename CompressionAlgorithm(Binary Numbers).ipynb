{
 "cells": [
  {
   "cell_type": "code",
   "execution_count": 113,
   "metadata": {
    "collapsed": true
   },
   "outputs": [],
   "source": [
    "import numpy as np\n",
    "import random\n",
    "from random import randint\n",
    "from numpy.linalg import norm\n",
    "from random import gauss\n",
    "from sklearn.cluster import KMeans\n",
    "import matplotlib.pyplot as plt\n",
    "import time\n",
    "from numpy.random import shuffle"
   ]
  },
  {
   "cell_type": "code",
   "execution_count": 114,
   "metadata": {},
   "outputs": [],
   "source": [
    "def createinputmatrix(n, d, numberofones):\n",
    "    v = np.zeros([int(0.6*n), d])\n",
    "    for i in range(int(0.6*n)):\n",
    "        numones = randint(a = 1, b = numberofones)\n",
    "        for j in range(numones):\n",
    "            index = randint(a = 0, b = d-1)\n",
    "            v[i, index] = 1\n",
    "    for k in range(int(0.2*n)):\n",
    "        v1 = np.zeros([d])\n",
    "        v2 = np.zeros([d])\n",
    "        hdistance = randint(a = 1, b = 25)\n",
    "        numones = randint(a = hdistance, b = numberofones)\n",
    "        for j in range(numones - hdistance):\n",
    "            index = randint(a = 0, b = d-1)\n",
    "            v1[index] = 1\n",
    "            v2[index] = 1\n",
    "        for l in range(hdistance):\n",
    "            index = randint(a = 0, b = d-1)\n",
    "            v1[index] = 1\n",
    "        v = np.append(v, values = [v1, v2], axis = 0)\n",
    "        #v = shuffle(v)\n",
    "    return v"
   ]
  },
  {
   "cell_type": "code",
   "execution_count": 115,
   "metadata": {},
   "outputs": [],
   "source": [
    "def gethammingdistance(a, b):\n",
    "   return np.count_nonzero(a!=b)\n",
    "    "
   ]
  },
  {
   "cell_type": "code",
   "execution_count": 116,
   "metadata": {
    "collapsed": true
   },
   "outputs": [],
   "source": [
    "def ourtransform(reduceddim, matrix):\n",
    "    start = time.time()\n",
    "    mapping = []\n",
    "    compressedmatrix = np.empty([0,reduceddim])\n",
    "    for i in range(matrix.shape[1]):\n",
    "        toss = randint(0, reduceddim-1)\n",
    "        mapping.append(toss)\n",
    "    for i in range(matrix.shape[0]):\n",
    "        reducedvector = []\n",
    "        vectoraftermapping = np.zeros([reduceddim,matrix.shape[1]])\n",
    "        vector = matrix[i]\n",
    "        #print(\"rv\",vector.shape)\n",
    "        for j in range(matrix.shape[1]):\n",
    "            vectoraftermapping[mapping[j],j] = vector[j]\n",
    "            #print(j)\n",
    "        for k in range(reduceddim):\n",
    "            reducedvector.append((sum(vectoraftermapping[k]))%2)\n",
    "        reducedvector = np.array(reducedvector)\n",
    "        compressedmatrix = np.append(arr = compressedmatrix, axis = 0, values = [reducedvector])\n",
    "    end = time.time()\n",
    "    print(end - start)\n",
    "    return compressedmatrix"
   ]
  },
  {
   "cell_type": "code",
   "execution_count": 117,
   "metadata": {},
   "outputs": [],
   "source": [
    "def getpairsets(matrix):\n",
    "    set25 = set([])\n",
    "    set20 = set([])\n",
    "    set15 = set([])\n",
    "    set10 = set([])\n",
    "    set05 = set([])\n",
    "    for i in range(matrix.shape[0]):\n",
    "        vector = matrix[i]\n",
    "        for j in range(i+1, matrix.shape[0]):\n",
    "            hdistance = gethammingdistance(vector, matrix[j, :])\n",
    "            if(hdistance <= 25):\n",
    "                set25.add((i,j))\n",
    "            if(hdistance <= 20):\n",
    "                set20.add((i,j))\n",
    "            if(hdistance <= 15):\n",
    "                set15.add((i,j))\n",
    "            if(hdistance <= 10):\n",
    "                set10.add((i,j))\n",
    "            if(hdistance <= 5):\n",
    "                set05.add((i,j))\n",
    "    return set05,set10,set15,set20,set25"
   ]
  },
  {
   "cell_type": "code",
   "execution_count": 118,
   "metadata": {},
   "outputs": [],
   "source": [
    "def calculateaccuracy(matrix, compressedmatrix):\n",
    "    oset05,oset10,oset15,oset20,oset25 = getpairsets(matrix)\n",
    "    cset05,cset10,cset15,cset20,cset25 = getpairsets(compressedmatrix)\n",
    "    \n",
    "    intersection05 = len(oset05.intersection(cset05))\n",
    "    intersection10 = len(oset10.intersection(cset10))\n",
    "    intersection15 = len(oset15.intersection(cset15))\n",
    "    intersection20 = len(oset20.intersection(cset20))\n",
    "    intersection25 = len(oset25.intersection(cset25))\n",
    "    \n",
    "    union05 = len(oset05.union(cset05))\n",
    "    union10 = len(oset10.union(cset10))\n",
    "    union15 = len(oset15.union(cset15))\n",
    "    union20 = len(oset20.union(cset20))\n",
    "    union25 = len(oset25.union(cset25))\n",
    "    \n",
    "    accuracy05 = intersection05/union05\n",
    "    accuracy10 = intersection10/union10\n",
    "    accuracy15 = intersection15/union15\n",
    "    accuracy20 = intersection20/union20\n",
    "    accuracy25 = intersection25/union25\n",
    "    \n",
    "    return accuracy05, accuracy10, accuracy15, accuracy20, accuracy25\n",
    "    \n"
   ]
  },
  {
   "cell_type": "code",
   "execution_count": 119,
   "metadata": {
    "collapsed": true
   },
   "outputs": [],
   "source": [
    "matrix = createinputmatrix(100, 100000, 100)"
   ]
  },
  {
   "cell_type": "code",
   "execution_count": 134,
   "metadata": {},
   "outputs": [
    {
     "ename": "KeyboardInterrupt",
     "evalue": "",
     "output_type": "error",
     "traceback": [
      "\u001b[0;31m---------------------------------------------------------------------------\u001b[0m",
      "\u001b[0;31mKeyboardInterrupt\u001b[0m                         Traceback (most recent call last)",
      "\u001b[0;32m<ipython-input-134-398a4202ff16>\u001b[0m in \u001b[0;36m<module>\u001b[0;34m()\u001b[0m\n\u001b[0;32m----> 1\u001b[0;31m \u001b[0mcompressedmatrix\u001b[0m \u001b[0;34m=\u001b[0m \u001b[0mourtransform\u001b[0m\u001b[0;34m(\u001b[0m\u001b[0;36m10000\u001b[0m\u001b[0;34m,\u001b[0m \u001b[0mmatrix\u001b[0m\u001b[0;34m)\u001b[0m\u001b[0;34m\u001b[0m\u001b[0m\n\u001b[0m",
      "\u001b[0;32m<ipython-input-116-389874d01bf5>\u001b[0m in \u001b[0;36mourtransform\u001b[0;34m(reduceddim, matrix)\u001b[0m\n\u001b[1;32m     15\u001b[0m             \u001b[0;31m#print(j)\u001b[0m\u001b[0;34m\u001b[0m\u001b[0;34m\u001b[0m\u001b[0m\n\u001b[1;32m     16\u001b[0m         \u001b[0;32mfor\u001b[0m \u001b[0mk\u001b[0m \u001b[0;32min\u001b[0m \u001b[0mrange\u001b[0m\u001b[0;34m(\u001b[0m\u001b[0mreduceddim\u001b[0m\u001b[0;34m)\u001b[0m\u001b[0;34m:\u001b[0m\u001b[0;34m\u001b[0m\u001b[0m\n\u001b[0;32m---> 17\u001b[0;31m             \u001b[0mreducedvector\u001b[0m\u001b[0;34m.\u001b[0m\u001b[0mappend\u001b[0m\u001b[0;34m(\u001b[0m\u001b[0;34m(\u001b[0m\u001b[0msum\u001b[0m\u001b[0;34m(\u001b[0m\u001b[0mvectoraftermapping\u001b[0m\u001b[0;34m[\u001b[0m\u001b[0mk\u001b[0m\u001b[0;34m]\u001b[0m\u001b[0;34m)\u001b[0m\u001b[0;34m)\u001b[0m\u001b[0;34m%\u001b[0m\u001b[0;36m2\u001b[0m\u001b[0;34m)\u001b[0m\u001b[0;34m\u001b[0m\u001b[0m\n\u001b[0m\u001b[1;32m     18\u001b[0m         \u001b[0mreducedvector\u001b[0m \u001b[0;34m=\u001b[0m \u001b[0mnp\u001b[0m\u001b[0;34m.\u001b[0m\u001b[0marray\u001b[0m\u001b[0;34m(\u001b[0m\u001b[0mreducedvector\u001b[0m\u001b[0;34m)\u001b[0m\u001b[0;34m\u001b[0m\u001b[0m\n\u001b[1;32m     19\u001b[0m         \u001b[0mcompressedmatrix\u001b[0m \u001b[0;34m=\u001b[0m \u001b[0mnp\u001b[0m\u001b[0;34m.\u001b[0m\u001b[0mappend\u001b[0m\u001b[0;34m(\u001b[0m\u001b[0marr\u001b[0m \u001b[0;34m=\u001b[0m \u001b[0mcompressedmatrix\u001b[0m\u001b[0;34m,\u001b[0m \u001b[0maxis\u001b[0m \u001b[0;34m=\u001b[0m \u001b[0;36m0\u001b[0m\u001b[0;34m,\u001b[0m \u001b[0mvalues\u001b[0m \u001b[0;34m=\u001b[0m \u001b[0;34m[\u001b[0m\u001b[0mreducedvector\u001b[0m\u001b[0;34m]\u001b[0m\u001b[0;34m)\u001b[0m\u001b[0;34m\u001b[0m\u001b[0m\n",
      "\u001b[0;31mKeyboardInterrupt\u001b[0m: "
     ]
    }
   ],
   "source": [
    "compressedmatrix = ourtransform(10000, matrix)"
   ]
  },
  {
   "cell_type": "code",
   "execution_count": null,
   "metadata": {
    "collapsed": true
   },
   "outputs": [],
   "source": [
    "accuracy05, accuracy10, accuracy15, accuracy20, accuracy25 = calculateaccuracy(matrix, compressedmatrix)"
   ]
  },
  {
   "cell_type": "code",
   "execution_count": null,
   "metadata": {},
   "outputs": [],
   "source": [
    "accuracy05"
   ]
  },
  {
   "cell_type": "code",
   "execution_count": null,
   "metadata": {},
   "outputs": [],
   "source": [
    "accuracy10"
   ]
  },
  {
   "cell_type": "code",
   "execution_count": null,
   "metadata": {},
   "outputs": [],
   "source": [
    "accuracy15"
   ]
  },
  {
   "cell_type": "code",
   "execution_count": null,
   "metadata": {},
   "outputs": [],
   "source": [
    "accuracy20"
   ]
  },
  {
   "cell_type": "code",
   "execution_count": null,
   "metadata": {},
   "outputs": [],
   "source": [
    "accuracy25"
   ]
  },
  {
   "cell_type": "code",
   "execution_count": null,
   "metadata": {
    "collapsed": true
   },
   "outputs": [],
   "source": []
  }
 ],
 "metadata": {
  "kernelspec": {
   "display_name": "Python 3",
   "language": "python",
   "name": "python3"
  },
  "language_info": {
   "codemirror_mode": {
    "name": "ipython",
    "version": 3
   },
   "file_extension": ".py",
   "mimetype": "text/x-python",
   "name": "python",
   "nbconvert_exporter": "python",
   "pygments_lexer": "ipython3",
   "version": "3.6.1"
  }
 },
 "nbformat": 4,
 "nbformat_minor": 2
}
