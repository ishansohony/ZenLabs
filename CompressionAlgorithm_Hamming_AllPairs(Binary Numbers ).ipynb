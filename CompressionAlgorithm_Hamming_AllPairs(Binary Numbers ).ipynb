{
 "cells": [
  {
   "cell_type": "code",
   "execution_count": 54,
   "metadata": {
    "collapsed": true
   },
   "outputs": [],
   "source": [
    "import numpy as np\n",
    "import random\n",
    "from random import randint\n",
    "from numpy.linalg import norm\n",
    "from random import gauss\n",
    "from sklearn.cluster import KMeans\n",
    "import matplotlib.pyplot as plt\n",
    "import time\n",
    "from numpy.random import shuffle\n",
    "import matplotlib.pyplot as plt\n",
    "import matplotlib "
   ]
  },
  {
   "cell_type": "code",
   "execution_count": 55,
   "metadata": {},
   "outputs": [],
   "source": [
    "global accuracyall\n",
    "global timetaken\n",
    "global dimsaftercompression\n",
    "global sparsity\n",
    "sparsity = [200, 500, 1000, 2000, 3000, 4000, 7000, 9000, 10000]\n",
    "dimsaftercompression = [50, 100, 500, 800, 1000, 1500, 2000, 2500, 3000, 4000, 5000]\n",
    "accuracyall = []\n",
    "timetaken = []\n",
    "\n"
   ]
  },
  {
   "cell_type": "code",
   "execution_count": 56,
   "metadata": {
    "collapsed": true
   },
   "outputs": [],
   "source": [
    "def createinputmatrix(n, d, numberofones):\n",
    "    v = np.zeros([int(0.6*n), d])\n",
    "    for i in range(int(0.6*n)):\n",
    "        numones = randint(a = 1, b = numberofones)\n",
    "        for j in range(numones):\n",
    "            index = randint(a = 0, b = d-1)\n",
    "            v[i, index] = 1\n",
    "    for k in range(int(0.2*n)):\n",
    "        v1 = np.zeros([d])\n",
    "        v2 = np.zeros([d])\n",
    "        hdistance = randint(a = 1, b = 25)\n",
    "        numones = randint(a = hdistance, b = numberofones)\n",
    "        for j in range(numones - hdistance):\n",
    "            index = randint(a = 0, b = d-1)\n",
    "            v1[index] = 1\n",
    "            v2[index] = 1\n",
    "        for l in range(hdistance):\n",
    "            index = randint(a = 0, b = d-1)\n",
    "            v1[index] = 1\n",
    "        for l in range(hdistance):\n",
    "            index = randint(a = 0, b = d-1)\n",
    "            v2[index] = 1\n",
    "        v = np.append(v, values = [v1, v2], axis = 0)\n",
    "        #v = shuffle(v)\n",
    "    return v"
   ]
  },
  {
   "cell_type": "code",
   "execution_count": 57,
   "metadata": {
    "collapsed": true
   },
   "outputs": [],
   "source": [
    "def gethammingdistance(a, b):\n",
    "   return np.count_nonzero(a!=b)\n",
    "    "
   ]
  },
  {
   "cell_type": "code",
   "execution_count": 58,
   "metadata": {
    "collapsed": true
   },
   "outputs": [],
   "source": [
    "def ourtransform(reduceddim, matrix):\n",
    "    start = time.time()\n",
    "    mapping = []\n",
    "    compressedmatrix = np.zeros([matrix.shape[0],reduceddim])\n",
    "    for i in range(matrix.shape[1]):\n",
    "        toss = randint(0, reduceddim-1)\n",
    "        mapping.append(toss)\n",
    "    for i in range(matrix.shape[0]):\n",
    "        #reducedvector = []\n",
    "        #vectoraftermapping = np.zeros([reduceddim,matrix.shape[1]])\n",
    "        #vector = matrix[i]\n",
    "        #print(\"rv\",vector.shape)\n",
    "        for j in range(matrix.shape[1]):\n",
    "            compressedmatrix[i][mapping[j]] += matrix[i][j]\n",
    "            #print(j)\n",
    "        #for k in range(reduceddim):\n",
    "        #   reducedvector.append((sum(vectoraftermapping[k]))%2)\n",
    "        #reducedvector = np.array(reducedvector)\n",
    "        #compressedmatrix = np.append(arr = compressedmatrix, axis = 0, values = [reducedvector])\n",
    "    end = time.time()\n",
    "    totaltime = end - start\n",
    "    print(totaltime)\n",
    "    timetaken.append(totaltime)\n",
    "    return compressedmatrix"
   ]
  },
  {
   "cell_type": "code",
   "execution_count": 59,
   "metadata": {
    "collapsed": true
   },
   "outputs": [],
   "source": [
    "def getpairsets(matrix):\n",
    "    set25 = set([])\n",
    "    set20 = set([])\n",
    "    set15 = set([])\n",
    "    set10 = set([])\n",
    "    set05 = set([])\n",
    "    for i in range(matrix.shape[0]):\n",
    "        vector = matrix[i]\n",
    "        for j in range(i+1, matrix.shape[0]):\n",
    "            hdistance = gethammingdistance(vector, matrix[j, :])\n",
    "            if(hdistance <= 25):\n",
    "                set25.add((i,j))\n",
    "            if(hdistance <= 20):\n",
    "                set20.add((i,j))\n",
    "            if(hdistance <= 15):\n",
    "                set15.add((i,j))\n",
    "            if(hdistance <= 10):\n",
    "                set10.add((i,j))\n",
    "            if(hdistance <= 5):\n",
    "                set05.add((i,j))\n",
    "    return set05,set10,set15,set20,set25"
   ]
  },
  {
   "cell_type": "code",
   "execution_count": 60,
   "metadata": {
    "collapsed": true
   },
   "outputs": [],
   "source": [
    "def calculateaccuracy(matrix, compressedmatrix):\n",
    "    \n",
    "    oset05,oset10,oset15,oset20,oset25 = getpairsets(matrix)\n",
    "    cset05,cset10,cset15,cset20,cset25 = getpairsets(compressedmatrix)\n",
    "    \n",
    "    intersection05 = len(oset05.intersection(cset05))\n",
    "    intersection10 = len(oset10.intersection(cset10))\n",
    "    intersection15 = len(oset15.intersection(cset15))\n",
    "    intersection20 = len(oset20.intersection(cset20))\n",
    "    intersection25 = len(oset25.intersection(cset25))\n",
    "    \n",
    "    union05 = len(oset05.union(cset05))\n",
    "    union10 = len(oset10.union(cset10))\n",
    "    union15 = len(oset15.union(cset15))\n",
    "    union20 = len(oset20.union(cset20))\n",
    "    union25 = len(oset25.union(cset25))\n",
    "    \n",
    "    if(union05==0):\n",
    "        accuracy05 = 1\n",
    "    else:\n",
    "        accuracy05 = intersection05/union05\n",
    "        \n",
    "    if(union10==0):\n",
    "        accuracy10 = 1\n",
    "    else:\n",
    "        accuracy10 = intersection10/union10\n",
    "        \n",
    "    if(union15==0):\n",
    "        accuracy15 = 1\n",
    "    else:\n",
    "        accuracy15 = intersection15/union15\n",
    "        \n",
    "    if(union20==0):\n",
    "        accuracy20 = 1\n",
    "    else:\n",
    "        accuracy20 = intersection20/union20\n",
    "        \n",
    "    if(union25==0):\n",
    "        accuracy25 = 1\n",
    "    else:\n",
    "        accuracy25 = intersection25/union25\n",
    "    \n",
    "    \n",
    "    accuracyall.append(accuracy05)\n",
    "    accuracyall.append(accuracy10)\n",
    "    accuracyall.append(accuracy15)\n",
    "    accuracyall.append(accuracy20)\n",
    "    accuracyall.append(accuracy25)    \n"
   ]
  },
  {
   "cell_type": "code",
   "execution_count": 61,
   "metadata": {},
   "outputs": [],
   "source": [
    "def plotaccuracy(accuracy):    \n",
    "    setof = [5,10,15,20,25]\n",
    "    plt.figure(figsize=(3,3))\n",
    "    for i in range(5):\n",
    "        plt.plot(dimsaftercompression, accuracy[i], label = '%i' %setof[i])\n",
    "    #plt.grid(b=True, which='major')\n",
    "    \n",
    "    plt.xticks([0,1000,2000,3000,4000,5000])\n",
    "    plt.yticks([0,0.1,0.2,0.3,0.4,0.5,0.6,0.7,0.8,0.9,1])\n",
    "    #matplotlib.rc('xtick', labelsize=10) \n",
    "    #matplotlib.rc('ytick', labelsize=10)\n",
    "    plt.xlabel('COMPRESSION LENGTH')\n",
    "    plt.ylabel('ACCURACY')\n",
    "    plt.legend()\n",
    "    plt.show()"
   ]
  },
  {
   "cell_type": "code",
   "execution_count": 62,
   "metadata": {
    "collapsed": true
   },
   "outputs": [],
   "source": [
    "def plottimetaken():    \n",
    "    plt.figure(figsize=(5,5))\n",
    "    plt.plot(dimsaftercompression, timetaken)\n",
    "    plt.grid(b=True, which='major')\n",
    "    #plt.xticks(dimsaftercompression)\n",
    "    plt.yticks([0,1,2,3,4,5,6,7])\n",
    "    #matplotlib.rc('xtick', labelsize=10) \n",
    "    #matplotlib.rc('ytick', labelsize=10) \n",
    "    plt.show()"
   ]
  },
  {
   "cell_type": "code",
   "execution_count": 63,
   "metadata": {},
   "outputs": [
    {
     "ename": "NameError",
     "evalue": "name 'accuracy' is not defined",
     "output_type": "error",
     "traceback": [
      "\u001b[0;31m---------------------------------------------------------------------------\u001b[0m",
      "\u001b[0;31mNameError\u001b[0m                                 Traceback (most recent call last)",
      "\u001b[0;32m<ipython-input-63-621e2336bdbe>\u001b[0m in \u001b[0;36m<module>\u001b[0;34m()\u001b[0m\n\u001b[0;32m----> 1\u001b[0;31m \u001b[0maccuracy\u001b[0m\u001b[0;34m.\u001b[0m\u001b[0mshape\u001b[0m\u001b[0;34m\u001b[0m\u001b[0m\n\u001b[0m",
      "\u001b[0;31mNameError\u001b[0m: name 'accuracy' is not defined"
     ]
    }
   ],
   "source": [
    "accuracy.shape"
   ]
  },
  {
   "cell_type": "code",
   "execution_count": 64,
   "metadata": {
    "collapsed": true
   },
   "outputs": [],
   "source": [
    "def getalldata():\n",
    "    \n",
    "    accuracy = np.zeros([5,11])\n",
    "    matrix = createinputmatrix(100, 100000, 200)\n",
    "    for i in dimsaftercompression:\n",
    "        print(i)\n",
    "        compressedmatrix = ourtransform(i, matrix)\n",
    "        calculateaccuracy(matrix, compressedmatrix)\n",
    "        \n",
    "    acindex = 0\n",
    "    for j in range(11):\n",
    "        for i in range(5):\n",
    "            accuracy[i][j] = accuracyall[acindex]\n",
    "            acindex += 1\n",
    "    return accuracy\n",
    "    \n",
    "    \n",
    "    "
   ]
  },
  {
   "cell_type": "code",
   "execution_count": null,
   "metadata": {},
   "outputs": [
    {
     "name": "stdout",
     "output_type": "stream",
     "text": [
      "0\n",
      "50\n"
     ]
    }
   ],
   "source": [
    "test = np.zeros([5,11])\n",
    "for i in range(1):\n",
    "    print(i)\n",
    "    test += getalldata()\n",
    "    \n"
   ]
  },
  {
   "cell_type": "code",
   "execution_count": null,
   "metadata": {},
   "outputs": [],
   "source": [
    "test = test/1\n",
    "plotaccuracy(test)"
   ]
  },
  {
   "cell_type": "code",
   "execution_count": 48,
   "metadata": {
    "collapsed": true
   },
   "outputs": [],
   "source": [
    "def varysparsity():\n",
    "    saccuracy = np.zeros([5,9])\n",
    "\n",
    "    for i in sparsity:\n",
    "        matrix = createinputmatrix(100, 100000, i)\n",
    "        compressedmatrix = ourtransform(5000, matrix)\n",
    "        calculateaccuracy(matrix, compressedmatrix)\n",
    "    \n",
    "    acindex = 0\n",
    "    for j in range(9):\n",
    "        for i in range(5):\n",
    "            saccuracy[i][j] = accuracyall[acindex]\n",
    "            acindex += 1\n",
    "            \n",
    "    return saccuracy\n",
    "    \n",
    "        "
   ]
  },
  {
   "cell_type": "code",
   "execution_count": 49,
   "metadata": {},
   "outputs": [
    {
     "name": "stdout",
     "output_type": "stream",
     "text": [
      "6.281687021255493\n",
      "6.2031848430633545\n",
      "6.372942924499512\n",
      "6.169425010681152\n",
      "6.127632141113281\n",
      "6.23579216003418\n",
      "6.5040788650512695\n",
      "6.401788949966431\n",
      "6.129150867462158\n"
     ]
    }
   ],
   "source": [
    "test = varysparsity()"
   ]
  },
  {
   "cell_type": "code",
   "execution_count": 103,
   "metadata": {},
   "outputs": [
    {
     "name": "stdout",
     "output_type": "stream",
     "text": [
      "50\n",
      "6.5367591381073\n",
      "100\n",
      "6.251223087310791\n",
      "500\n",
      "6.143294095993042\n",
      "800\n",
      "6.180294036865234\n",
      "1000\n",
      "6.190447092056274\n",
      "1500\n",
      "6.196944952011108\n",
      "2000\n",
      "6.214958906173706\n",
      "2500\n",
      "6.256834983825684\n",
      "3000\n",
      "6.2416298389434814\n",
      "4000\n",
      "6.158505916595459\n",
      "5000\n",
      "6.176840305328369\n"
     ]
    }
   ],
   "source": [
    "test = getalldata()"
   ]
  },
  {
   "cell_type": "code",
   "execution_count": 104,
   "metadata": {},
   "outputs": [
    {
     "data": {
      "image/png": "[encoded data removed]",
      "text/plain": [
       "<matplotlib.figure.Figure at 0x1113e2240>"
      ]
     },
     "metadata": {},
     "output_type": "display_data"
    }
   ],
   "source": [
    "plotaccuracy(test)"
   ]
  },
  {
   "cell_type": "code",
   "execution_count": null,
   "metadata": {
    "collapsed": true
   },
   "outputs": [],
   "source": []
  }
 ],
 "metadata": {
  "kernelspec": {
   "display_name": "Python 3",
   "language": "python",
   "name": "python3"
  },
  "language_info": {
   "codemirror_mode": {
    "name": "ipython",
    "version": 3
   },
   "file_extension": ".py",
   "mimetype": "text/x-python",
   "name": "python",
   "nbconvert_exporter": "python",
   "pygments_lexer": "ipython3",
   "version": "3.6.1"
  }
 },
 "nbformat": 4,
 "nbformat_minor": 2
}
