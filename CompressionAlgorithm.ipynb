{
 "cells": [
  {
   "cell_type": "code",
   "execution_count": 2,
   "metadata": {
    "collapsed": true
   },
   "outputs": [],
   "source": [
    "import numpy as np\n",
    "import random\n",
    "from random import randint\n",
    "from numpy.linalg import norm\n",
    "from random import gauss\n",
    "from sklearn.cluster import KMeans\n",
    "import matplotlib.pyplot as plt\n",
    "import time\n",
    "\n",
    "#from sklearn.manifold import TSNE"
   ]
  },
  {
   "cell_type": "code",
   "execution_count": 3,
   "metadata": {
    "collapsed": true
   },
   "outputs": [],
   "source": [
    "def getvector(givennorm, d) :   \n",
    "    vec = [gauss(0, 1) for i in range(d)]\n",
    "    mag = sum(x**2 for x in vec) ** .5\n",
    "    return [(givennorm*x)/mag for x in vec]"
   ]
  },
  {
   "cell_type": "code",
   "execution_count": 4,
   "metadata": {
    "collapsed": true
   },
   "outputs": [],
   "source": [
    "def createinputmatrix(n, d, givennorm):\n",
    "    v = np.empty([0, 100000])\n",
    "    for i in range(n):\n",
    "        norm1 = randint(a = 1, b = givennorm)\n",
    "        vn = getvector(norm1, d)\n",
    "        v = np.append(arr = v, values = [vn], axis = 0)\n",
    "    return v\n",
    "    "
   ]
  },
  {
   "cell_type": "code",
   "execution_count": 5,
   "metadata": {
    "collapsed": true
   },
   "outputs": [],
   "source": [
    "def cointoss(n):\n",
    "    cointossvector = []\n",
    "    for i in range(n):\n",
    "        toss = randint(1, 2)\n",
    "        if(toss == 1):\n",
    "            cointossvector.append(1)\n",
    "        elif(toss == 2):\n",
    "            cointossvector.append(-1)\n",
    "    return cointossvector"
   ]
  },
  {
   "cell_type": "code",
   "execution_count": 6,
   "metadata": {
    "collapsed": true
   },
   "outputs": [],
   "source": [
    "def getJLmatrix( reduceddim, actualdimensions):\n",
    "    jlmatrix = np.empty([0, actualdimensions])\n",
    "    for i in range(reduceddim):\n",
    "        jlmatrix = np.append(arr = jlmatrix, values = [cointoss(actualdimensions)], axis = 0)\n",
    "    return jlmatrix"
   ]
  },
  {
   "cell_type": "code",
   "execution_count": 7,
   "metadata": {
    "collapsed": true
   },
   "outputs": [],
   "source": [
    "def jltransform(reduceddim, matrix):\n",
    "    start = time.time()\n",
    "    jlmatrix = getJLmatrix(reduceddim, matrix.shape[1])\n",
    "    jlmatrix = np.transpose(jlmatrix)\n",
    "    compressedmatrix = np.dot(matrix, jlmatrix)\n",
    "    end = time.time()\n",
    "    print(end - start)\n",
    "    return compressedmatrix\n",
    "        \n",
    "    "
   ]
  },
  {
   "cell_type": "code",
   "execution_count": 8,
   "metadata": {
    "collapsed": true
   },
   "outputs": [],
   "source": [
    "def clusterintersections(original, matrix, numclusters):\n",
    "    start = time.time()\n",
    "    km = KMeans(n_clusters = numclusters)\n",
    "    originalclustering = km.fit(original)\n",
    "    km = KMeans(n_clusters = numclusters)\n",
    "    jlclustering = km.fit(matrix)\n",
    "    oc = np.zeros([numclusters, matrix.shape[0]])\n",
    "    jlc = np.zeros([numclusters, matrix.shape[0]])\n",
    "    ip = []\n",
    "    for i in range(matrix.shape[0]):\n",
    "        oc[originalclustering.labels_[i],i] = 1\n",
    "        jlc[jlclustering.labels_[i],i] = 1\n",
    "    mxdp = []    \n",
    "    for i in range(numclusters):\n",
    "        dp = []\n",
    "        for j in range(numclusters):\n",
    "            dp.append(np.inner(oc[j],jlc[i]))\n",
    "        mxdp.append(max(dp))\n",
    "    end = time.time()\n",
    "    print(end - start)\n",
    "    return mxdp"
   ]
  },
  {
   "cell_type": "code",
   "execution_count": 9,
   "metadata": {
    "collapsed": true
   },
   "outputs": [],
   "source": [
    "def accuracy(result, matrix):\n",
    "    return((sum(result)/matrix.shape[0])*100)"
   ]
  },
  {
   "cell_type": "code",
   "execution_count": 10,
   "metadata": {
    "collapsed": true
   },
   "outputs": [],
   "source": [
    "def ourtransform(reduceddim, matrix):\n",
    "    start = time.time()\n",
    "    mapping = []\n",
    "    compressedmatrix = np.empty([0,reduceddim])\n",
    "    for i in range(matrix.shape[1]):\n",
    "        toss = randint(0, reduceddim-1)\n",
    "        mapping.append(toss)\n",
    "    for i in range(matrix.shape[0]):\n",
    "        reducedvector = []\n",
    "        vectoraftermapping = np.zeros([reduceddim,matrix.shape[1]])\n",
    "        vector = matrix[i]\n",
    "        randomvector = cointoss(matrix.shape[1])\n",
    "        vector = np.multiply(vector,randomvector)\n",
    "        #print(\"rv\",vector.shape)\n",
    "        for j in range(matrix.shape[1]):\n",
    "            vectoraftermapping[mapping[j],j] = vector[j]\n",
    "            #print(j)\n",
    "        for k in range(reduceddim):\n",
    "            reducedvector.append(sum(vectoraftermapping[k]))\n",
    "        reducedvector = np.array(reducedvector)\n",
    "        compressedmatrix = np.append(arr = compressedmatrix, axis = 0, values = [reducedvector])\n",
    "    end = time.time()\n",
    "    print(end - start)\n",
    "    return compressedmatrix\n",
    "        "
   ]
  },
  {
   "cell_type": "code",
   "execution_count": 11,
   "metadata": {},
   "outputs": [],
   "source": [
    "inputmatrix = createinputmatrix(500, 100000, 1000)"
   ]
  },
  {
   "cell_type": "code",
   "execution_count": null,
   "metadata": {
    "collapsed": true
   },
   "outputs": [],
   "source": [
    "ourresult5 = ourtransform(5, inputmatrix)"
   ]
  },
  {
   "cell_type": "code",
   "execution_count": null,
   "metadata": {
    "collapsed": true
   },
   "outputs": [],
   "source": [
    "ourresult1 = clusterintersections(inputmatrix, ourresult, 5)"
   ]
  },
  {
   "cell_type": "code",
   "execution_count": null,
   "metadata": {
    "collapsed": true
   },
   "outputs": [],
   "source": [
    "ourresult1"
   ]
  },
  {
   "cell_type": "code",
   "execution_count": null,
   "metadata": {
    "collapsed": true
   },
   "outputs": [],
   "source": [
    "print(accuracy(ourresult1, inputmatrix))"
   ]
  },
  {
   "cell_type": "code",
   "execution_count": null,
   "metadata": {
    "collapsed": true
   },
   "outputs": [],
   "source": [
    "jlresult = jltransform(100, inputmatrix)"
   ]
  },
  {
   "cell_type": "code",
   "execution_count": null,
   "metadata": {
    "collapsed": true
   },
   "outputs": [],
   "source": [
    "jlresult1 = clusterintersections(inputmatrix, jlresult, 5)"
   ]
  },
  {
   "cell_type": "code",
   "execution_count": null,
   "metadata": {
    "collapsed": true
   },
   "outputs": [],
   "source": [
    "jlresult1"
   ]
  },
  {
   "cell_type": "code",
   "execution_count": null,
   "metadata": {
    "collapsed": true
   },
   "outputs": [],
   "source": [
    "print(accuracy(jlresult1, inputmatrix))"
   ]
  },
  {
   "cell_type": "code",
   "execution_count": null,
   "metadata": {
    "collapsed": true
   },
   "outputs": [],
   "source": []
  }
 ],
 "metadata": {
  "kernelspec": {
   "display_name": "Python 3",
   "language": "python",
   "name": "python3"
  },
  "language_info": {
   "codemirror_mode": {
    "name": "ipython",
    "version": 3
   },
   "file_extension": ".py",
   "mimetype": "text/x-python",
   "name": "python",
   "nbconvert_exporter": "python",
   "pygments_lexer": "ipython3",
   "version": "3.6.1"
  }
 },
 "nbformat": 4,
 "nbformat_minor": 2
}
